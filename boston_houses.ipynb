{
  "nbformat": 4,
  "nbformat_minor": 0,
  "metadata": {
    "colab": {
      "name": "boston_houses.ipynb",
      "provenance": [],
      "collapsed_sections": []
    },
    "kernelspec": {
      "name": "python3",
      "display_name": "Python 3"
    }
  },
  "cells": [
    {
      "cell_type": "code",
      "metadata": {
        "id": "lGi_D-LTthmv",
        "colab_type": "code",
        "colab": {
          "base_uri": "https://localhost:8080/",
          "height": 34
        },
        "outputId": "a3021a08-cfa1-475c-c666-65dddf5ccb41"
      },
      "source": [
        "#import modules\n",
        "import pandas as pd\n",
        "from sklearn import linear_model\n",
        "from sklearn.model_selection import train_test_split\n",
        "\n",
        "print('Done...')"
      ],
      "execution_count": 11,
      "outputs": [
        {
          "output_type": "stream",
          "text": [
            "Done...\n"
          ],
          "name": "stdout"
        }
      ]
    },
    {
      "cell_type": "code",
      "metadata": {
        "id": "eIqU1xs4uFFv",
        "colab_type": "code",
        "colab": {
          "base_uri": "https://localhost:8080/",
          "height": 34
        },
        "outputId": "6ae9f4ce-2ecc-45cf-86f1-98bdc49c6796"
      },
      "source": [
        "#load boston house dataset\n",
        "from sklearn.datasets import load_boston\n",
        "boston = load_boston()\n",
        "\n",
        "print('Done...')"
      ],
      "execution_count": 12,
      "outputs": [
        {
          "output_type": "stream",
          "text": [
            "Done...\n"
          ],
          "name": "stdout"
        }
      ]
    },
    {
      "cell_type": "code",
      "metadata": {
        "id": "1hx8MIBkvPNq",
        "colab_type": "code",
        "colab": {
          "base_uri": "https://localhost:8080/",
          "height": 34
        },
        "outputId": "c5d59676-7960-4391-c1ea-153965065307"
      },
      "source": [
        "df_x = pd.DataFrame(boston.data,columns=boston.feature_names)\n",
        "df_y = pd.DataFrame(boston.target)\n",
        "print('Done...')"
      ],
      "execution_count": 13,
      "outputs": [
        {
          "output_type": "stream",
          "text": [
            "Done...\n"
          ],
          "name": "stdout"
        }
      ]
    },
    {
      "cell_type": "code",
      "metadata": {
        "id": "zM190OLQwslq",
        "colab_type": "code",
        "colab": {
          "base_uri": "https://localhost:8080/",
          "height": 287
        },
        "outputId": "2aff2982-5d68-40e8-e124-25c9a569a1fe"
      },
      "source": [
        "df_x.describe()"
      ],
      "execution_count": 14,
      "outputs": [
        {
          "output_type": "execute_result",
          "data": {
            "text/html": [
              "<div>\n",
              "<style scoped>\n",
              "    .dataframe tbody tr th:only-of-type {\n",
              "        vertical-align: middle;\n",
              "    }\n",
              "\n",
              "    .dataframe tbody tr th {\n",
              "        vertical-align: top;\n",
              "    }\n",
              "\n",
              "    .dataframe thead th {\n",
              "        text-align: right;\n",
              "    }\n",
              "</style>\n",
              "<table border=\"1\" class=\"dataframe\">\n",
              "  <thead>\n",
              "    <tr style=\"text-align: right;\">\n",
              "      <th></th>\n",
              "      <th>CRIM</th>\n",
              "      <th>ZN</th>\n",
              "      <th>INDUS</th>\n",
              "      <th>CHAS</th>\n",
              "      <th>NOX</th>\n",
              "      <th>RM</th>\n",
              "      <th>AGE</th>\n",
              "      <th>DIS</th>\n",
              "      <th>RAD</th>\n",
              "      <th>TAX</th>\n",
              "      <th>PTRATIO</th>\n",
              "      <th>B</th>\n",
              "      <th>LSTAT</th>\n",
              "    </tr>\n",
              "  </thead>\n",
              "  <tbody>\n",
              "    <tr>\n",
              "      <th>count</th>\n",
              "      <td>506.000000</td>\n",
              "      <td>506.000000</td>\n",
              "      <td>506.000000</td>\n",
              "      <td>506.000000</td>\n",
              "      <td>506.000000</td>\n",
              "      <td>506.000000</td>\n",
              "      <td>506.000000</td>\n",
              "      <td>506.000000</td>\n",
              "      <td>506.000000</td>\n",
              "      <td>506.000000</td>\n",
              "      <td>506.000000</td>\n",
              "      <td>506.000000</td>\n",
              "      <td>506.000000</td>\n",
              "    </tr>\n",
              "    <tr>\n",
              "      <th>mean</th>\n",
              "      <td>3.613524</td>\n",
              "      <td>11.363636</td>\n",
              "      <td>11.136779</td>\n",
              "      <td>0.069170</td>\n",
              "      <td>0.554695</td>\n",
              "      <td>6.284634</td>\n",
              "      <td>68.574901</td>\n",
              "      <td>3.795043</td>\n",
              "      <td>9.549407</td>\n",
              "      <td>408.237154</td>\n",
              "      <td>18.455534</td>\n",
              "      <td>356.674032</td>\n",
              "      <td>12.653063</td>\n",
              "    </tr>\n",
              "    <tr>\n",
              "      <th>std</th>\n",
              "      <td>8.601545</td>\n",
              "      <td>23.322453</td>\n",
              "      <td>6.860353</td>\n",
              "      <td>0.253994</td>\n",
              "      <td>0.115878</td>\n",
              "      <td>0.702617</td>\n",
              "      <td>28.148861</td>\n",
              "      <td>2.105710</td>\n",
              "      <td>8.707259</td>\n",
              "      <td>168.537116</td>\n",
              "      <td>2.164946</td>\n",
              "      <td>91.294864</td>\n",
              "      <td>7.141062</td>\n",
              "    </tr>\n",
              "    <tr>\n",
              "      <th>min</th>\n",
              "      <td>0.006320</td>\n",
              "      <td>0.000000</td>\n",
              "      <td>0.460000</td>\n",
              "      <td>0.000000</td>\n",
              "      <td>0.385000</td>\n",
              "      <td>3.561000</td>\n",
              "      <td>2.900000</td>\n",
              "      <td>1.129600</td>\n",
              "      <td>1.000000</td>\n",
              "      <td>187.000000</td>\n",
              "      <td>12.600000</td>\n",
              "      <td>0.320000</td>\n",
              "      <td>1.730000</td>\n",
              "    </tr>\n",
              "    <tr>\n",
              "      <th>25%</th>\n",
              "      <td>0.082045</td>\n",
              "      <td>0.000000</td>\n",
              "      <td>5.190000</td>\n",
              "      <td>0.000000</td>\n",
              "      <td>0.449000</td>\n",
              "      <td>5.885500</td>\n",
              "      <td>45.025000</td>\n",
              "      <td>2.100175</td>\n",
              "      <td>4.000000</td>\n",
              "      <td>279.000000</td>\n",
              "      <td>17.400000</td>\n",
              "      <td>375.377500</td>\n",
              "      <td>6.950000</td>\n",
              "    </tr>\n",
              "    <tr>\n",
              "      <th>50%</th>\n",
              "      <td>0.256510</td>\n",
              "      <td>0.000000</td>\n",
              "      <td>9.690000</td>\n",
              "      <td>0.000000</td>\n",
              "      <td>0.538000</td>\n",
              "      <td>6.208500</td>\n",
              "      <td>77.500000</td>\n",
              "      <td>3.207450</td>\n",
              "      <td>5.000000</td>\n",
              "      <td>330.000000</td>\n",
              "      <td>19.050000</td>\n",
              "      <td>391.440000</td>\n",
              "      <td>11.360000</td>\n",
              "    </tr>\n",
              "    <tr>\n",
              "      <th>75%</th>\n",
              "      <td>3.677083</td>\n",
              "      <td>12.500000</td>\n",
              "      <td>18.100000</td>\n",
              "      <td>0.000000</td>\n",
              "      <td>0.624000</td>\n",
              "      <td>6.623500</td>\n",
              "      <td>94.075000</td>\n",
              "      <td>5.188425</td>\n",
              "      <td>24.000000</td>\n",
              "      <td>666.000000</td>\n",
              "      <td>20.200000</td>\n",
              "      <td>396.225000</td>\n",
              "      <td>16.955000</td>\n",
              "    </tr>\n",
              "    <tr>\n",
              "      <th>max</th>\n",
              "      <td>88.976200</td>\n",
              "      <td>100.000000</td>\n",
              "      <td>27.740000</td>\n",
              "      <td>1.000000</td>\n",
              "      <td>0.871000</td>\n",
              "      <td>8.780000</td>\n",
              "      <td>100.000000</td>\n",
              "      <td>12.126500</td>\n",
              "      <td>24.000000</td>\n",
              "      <td>711.000000</td>\n",
              "      <td>22.000000</td>\n",
              "      <td>396.900000</td>\n",
              "      <td>37.970000</td>\n",
              "    </tr>\n",
              "  </tbody>\n",
              "</table>\n",
              "</div>"
            ],
            "text/plain": [
              "             CRIM          ZN       INDUS  ...     PTRATIO           B       LSTAT\n",
              "count  506.000000  506.000000  506.000000  ...  506.000000  506.000000  506.000000\n",
              "mean     3.613524   11.363636   11.136779  ...   18.455534  356.674032   12.653063\n",
              "std      8.601545   23.322453    6.860353  ...    2.164946   91.294864    7.141062\n",
              "min      0.006320    0.000000    0.460000  ...   12.600000    0.320000    1.730000\n",
              "25%      0.082045    0.000000    5.190000  ...   17.400000  375.377500    6.950000\n",
              "50%      0.256510    0.000000    9.690000  ...   19.050000  391.440000   11.360000\n",
              "75%      3.677083   12.500000   18.100000  ...   20.200000  396.225000   16.955000\n",
              "max     88.976200  100.000000   27.740000  ...   22.000000  396.900000   37.970000\n",
              "\n",
              "[8 rows x 13 columns]"
            ]
          },
          "metadata": {
            "tags": []
          },
          "execution_count": 14
        }
      ]
    },
    {
      "cell_type": "code",
      "metadata": {
        "id": "WFsmN9610W9J",
        "colab_type": "code",
        "colab": {}
      },
      "source": [
        "reg = linear_model.LinearRegression()"
      ],
      "execution_count": 15,
      "outputs": []
    },
    {
      "cell_type": "code",
      "metadata": {
        "id": "ugQ5Nk5s0gRO",
        "colab_type": "code",
        "colab": {
          "base_uri": "https://localhost:8080/",
          "height": 34
        },
        "outputId": "fb237acf-9355-4bbb-882b-71443ae5c00c"
      },
      "source": [
        "x_train,x_test,y_train,y_test = train_test_split(df_x,df_y,test_size = 0.3 ,random_state = 42)\n",
        "print('Done...')"
      ],
      "execution_count": 16,
      "outputs": [
        {
          "output_type": "stream",
          "text": [
            "Done...\n"
          ],
          "name": "stdout"
        }
      ]
    },
    {
      "cell_type": "code",
      "metadata": {
        "id": "3fqCRPzR1wjZ",
        "colab_type": "code",
        "colab": {
          "base_uri": "https://localhost:8080/",
          "height": 34
        },
        "outputId": "844ec51e-b1c5-4d44-9543-8da47552979e"
      },
      "source": [
        "#train the model with our training data\n",
        "reg.fit(x_train,y_train)"
      ],
      "execution_count": 17,
      "outputs": [
        {
          "output_type": "execute_result",
          "data": {
            "text/plain": [
              "LinearRegression(copy_X=True, fit_intercept=True, n_jobs=None, normalize=False)"
            ]
          },
          "metadata": {
            "tags": []
          },
          "execution_count": 17
        }
      ]
    },
    {
      "cell_type": "code",
      "metadata": {
        "id": "mqB8_rCY2MKF",
        "colab_type": "code",
        "colab": {
          "base_uri": "https://localhost:8080/",
          "height": 87
        },
        "outputId": "e6070ca6-cbdb-438a-cfae-3fa19f03a20a"
      },
      "source": [
        "#print the coefficient of each column in our model \n",
        "print(reg.coef_)"
      ],
      "execution_count": 18,
      "outputs": [
        {
          "output_type": "stream",
          "text": [
            "[[-1.33470103e-01  3.58089136e-02  4.95226452e-02  3.11983512e+00\n",
            "  -1.54170609e+01  4.05719923e+00 -1.08208352e-02 -1.38599824e+00\n",
            "   2.42727340e-01 -8.70223437e-03 -9.10685208e-01  1.17941159e-02\n",
            "  -5.47113313e-01]]\n"
          ],
          "name": "stdout"
        }
      ]
    },
    {
      "cell_type": "code",
      "metadata": {
        "id": "4BMgIwsZ3gup",
        "colab_type": "code",
        "colab": {
          "base_uri": "https://localhost:8080/",
          "height": 1000
        },
        "outputId": "7c9de22d-1fe1-4cb9-b113-bfce664be96e"
      },
      "source": [
        "y_predict = reg.predict(x_test)\n",
        "print(y_predict)"
      ],
      "execution_count": 19,
      "outputs": [
        {
          "output_type": "stream",
          "text": [
            "[[28.64896005]\n",
            " [36.49501384]\n",
            " [15.4111932 ]\n",
            " [25.40321303]\n",
            " [18.85527988]\n",
            " [23.14668944]\n",
            " [17.3921241 ]\n",
            " [14.07859899]\n",
            " [23.03692679]\n",
            " [20.59943345]\n",
            " [24.82286159]\n",
            " [18.53057049]\n",
            " [-6.86543527]\n",
            " [21.80172334]\n",
            " [19.22571177]\n",
            " [26.19191985]\n",
            " [20.27733882]\n",
            " [ 5.61596432]\n",
            " [40.44887974]\n",
            " [17.57695918]\n",
            " [27.44319095]\n",
            " [30.1715964 ]\n",
            " [10.94055823]\n",
            " [24.02083139]\n",
            " [18.07693812]\n",
            " [15.934748  ]\n",
            " [23.12614028]\n",
            " [14.56052142]\n",
            " [22.33482544]\n",
            " [19.3257627 ]\n",
            " [22.16564973]\n",
            " [25.19476081]\n",
            " [25.31372473]\n",
            " [18.51345025]\n",
            " [16.6223286 ]\n",
            " [17.50268505]\n",
            " [30.94992991]\n",
            " [20.19201752]\n",
            " [23.90440431]\n",
            " [24.86975466]\n",
            " [13.93767876]\n",
            " [31.82504715]\n",
            " [42.56978796]\n",
            " [17.62323805]\n",
            " [27.01963242]\n",
            " [17.19006621]\n",
            " [13.80594006]\n",
            " [26.10356557]\n",
            " [20.31516118]\n",
            " [30.08649576]\n",
            " [21.3124053 ]\n",
            " [34.15739602]\n",
            " [15.60444981]\n",
            " [26.11247588]\n",
            " [39.31613646]\n",
            " [22.99282065]\n",
            " [18.95764781]\n",
            " [33.05555669]\n",
            " [24.85114223]\n",
            " [12.91729352]\n",
            " [22.68101452]\n",
            " [30.80336295]\n",
            " [31.63522027]\n",
            " [16.29833689]\n",
            " [21.07379993]\n",
            " [16.57699669]\n",
            " [20.36362023]\n",
            " [26.15615896]\n",
            " [31.06833034]\n",
            " [11.98679953]\n",
            " [20.42550472]\n",
            " [27.55676301]\n",
            " [10.94316981]\n",
            " [16.82660609]\n",
            " [23.92909733]\n",
            " [ 5.28065815]\n",
            " [21.43504661]\n",
            " [41.33684993]\n",
            " [18.22211675]\n",
            " [ 9.48269245]\n",
            " [21.19857446]\n",
            " [12.95001331]\n",
            " [21.64822797]\n",
            " [ 9.3845568 ]\n",
            " [23.06060014]\n",
            " [31.95762512]\n",
            " [19.16662892]\n",
            " [25.59942257]\n",
            " [29.35043558]\n",
            " [20.13138581]\n",
            " [25.57297369]\n",
            " [ 5.42970803]\n",
            " [20.23169356]\n",
            " [15.1949595 ]\n",
            " [14.03241742]\n",
            " [20.91078077]\n",
            " [24.82249135]\n",
            " [-0.47712079]\n",
            " [13.70520524]\n",
            " [15.69525576]\n",
            " [22.06972676]\n",
            " [24.64152943]\n",
            " [10.7382866 ]\n",
            " [19.68622564]\n",
            " [23.63678009]\n",
            " [12.07974981]\n",
            " [18.47894211]\n",
            " [25.52713393]\n",
            " [20.93461307]\n",
            " [24.6955941 ]\n",
            " [ 7.59054562]\n",
            " [19.01046053]\n",
            " [21.9444339 ]\n",
            " [27.22319977]\n",
            " [32.18608828]\n",
            " [15.27826455]\n",
            " [34.39190421]\n",
            " [12.96314168]\n",
            " [21.01681316]\n",
            " [28.57880911]\n",
            " [15.86300844]\n",
            " [24.85124135]\n",
            " [ 3.37937111]\n",
            " [23.90465773]\n",
            " [25.81792146]\n",
            " [23.11020547]\n",
            " [25.33489201]\n",
            " [33.35545176]\n",
            " [20.60724498]\n",
            " [38.4772665 ]\n",
            " [13.97398533]\n",
            " [25.21923987]\n",
            " [17.80946626]\n",
            " [20.63437371]\n",
            " [ 9.80267398]\n",
            " [21.07953576]\n",
            " [22.3378417 ]\n",
            " [32.32381854]\n",
            " [31.48694863]\n",
            " [15.46621287]\n",
            " [16.86242766]\n",
            " [28.99330526]\n",
            " [24.95467894]\n",
            " [16.73633557]\n",
            " [ 6.12858395]\n",
            " [26.65990044]\n",
            " [23.34007187]\n",
            " [17.40367164]\n",
            " [13.38594123]\n",
            " [39.98342478]\n",
            " [16.68286302]\n",
            " [18.28561759]]\n"
          ],
          "name": "stdout"
        }
      ]
    },
    {
      "cell_type": "code",
      "metadata": {
        "id": "S9PpKm_D3r2u",
        "colab_type": "code",
        "colab": {
          "base_uri": "https://localhost:8080/",
          "height": 52
        },
        "outputId": "20796efb-9a07-48e5-ed75-1bcd35b9df0c"
      },
      "source": [
        "#check MSE\n",
        "print(((y_predict - y_test )**2).mean())"
      ],
      "execution_count": 23,
      "outputs": [
        {
          "output_type": "stream",
          "text": [
            "0    21.517444\n",
            "dtype: float64\n"
          ],
          "name": "stdout"
        }
      ]
    },
    {
      "cell_type": "code",
      "metadata": {
        "id": "HuxbDuZS4na1",
        "colab_type": "code",
        "colab": {
          "base_uri": "https://localhost:8080/",
          "height": 34
        },
        "outputId": "83ead768-e381-4021-c4f4-ac7b14b050bd"
      },
      "source": [
        "#another way to check MSE\n",
        "\n",
        "from sklearn.metrics import mean_squared_error\n",
        "\n",
        "mean_squared_error(y_test,y_predict)"
      ],
      "execution_count": 21,
      "outputs": [
        {
          "output_type": "execute_result",
          "data": {
            "text/plain": [
              "21.517444231176903"
            ]
          },
          "metadata": {
            "tags": []
          },
          "execution_count": 21
        }
      ]
    }
  ]
}